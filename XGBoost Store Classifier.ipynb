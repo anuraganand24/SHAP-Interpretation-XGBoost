{
 "cells": [
  {
   "cell_type": "markdown",
   "metadata": {},
   "source": [
    "# MMR - Store Model"
   ]
  },
  {
   "cell_type": "markdown",
   "metadata": {},
   "source": [
    "### XGBoost Classifier"
   ]
  },
  {
   "cell_type": "markdown",
   "metadata": {},
   "source": [
    "### Importing Libraries"
   ]
  },
  {
   "cell_type": "code",
   "execution_count": 137,
   "metadata": {},
   "outputs": [],
   "source": [
    "import pandas as pd\n",
    "import numpy as np\n",
    "from sklearn.feature_selection import SelectKBest\n",
    "from sklearn.feature_selection import chi2\n",
    "from sklearn import preprocessing\n",
    "from datetime import datetime\n",
    "from tqdm import tqdm_notebook\n",
    "from sklearn.tree import export_graphviz\n",
    "from sklearn.externals.six import StringIO \n",
    "from IPython.display import Image \n",
    "from pydot import graph_from_dot_data\n",
    "from sklearn.model_selection import train_test_split\n",
    "from sklearn import preprocessing\n",
    "from sklearn.ensemble import RandomForestRegressor\n",
    "from sklearn.tree import DecisionTreeClassifier\n",
    "from sklearn.ensemble import RandomForestClassifier\n",
    "import xgboost as xgb\n",
    "from sklearn.model_selection import train_test_split\n",
    "from sklearn.metrics import confusion_matrix\n",
    "from sklearn import tree\n",
    "from os import system\n",
    "from graphviz import Source\n",
    "from sklearn import metrics"
   ]
  },
  {
   "cell_type": "markdown",
   "metadata": {},
   "source": [
    "### Reading the Dataset and Preprocessing"
   ]
  },
  {
   "cell_type": "code",
   "execution_count": 138,
   "metadata": {},
   "outputs": [
    {
     "data": {
      "text/html": [
       "<div>\n",
       "<style scoped>\n",
       "    .dataframe tbody tr th:only-of-type {\n",
       "        vertical-align: middle;\n",
       "    }\n",
       "\n",
       "    .dataframe tbody tr th {\n",
       "        vertical-align: top;\n",
       "    }\n",
       "\n",
       "    .dataframe thead th {\n",
       "        text-align: right;\n",
       "    }\n",
       "</style>\n",
       "<table border=\"1\" class=\"dataframe\">\n",
       "  <thead>\n",
       "    <tr style=\"text-align: right;\">\n",
       "      <th></th>\n",
       "      <th>Tenure</th>\n",
       "      <th>Competitor_Intensity</th>\n",
       "      <th>Area</th>\n",
       "      <th>PD_Base</th>\n",
       "      <th>Weather</th>\n",
       "      <th>Stockout_Perc</th>\n",
       "      <th>Cluster</th>\n",
       "      <th>Gross_Sales</th>\n",
       "      <th>Planned_Sales_Dollar</th>\n",
       "      <th>Deviation_In_Sales</th>\n",
       "      <th>RegionName</th>\n",
       "    </tr>\n",
       "    <tr>\n",
       "      <th>Store</th>\n",
       "      <th></th>\n",
       "      <th></th>\n",
       "      <th></th>\n",
       "      <th></th>\n",
       "      <th></th>\n",
       "      <th></th>\n",
       "      <th></th>\n",
       "      <th></th>\n",
       "      <th></th>\n",
       "      <th></th>\n",
       "      <th></th>\n",
       "    </tr>\n",
       "  </thead>\n",
       "  <tbody>\n",
       "    <tr>\n",
       "      <th>701</th>\n",
       "      <td>Very_Old</td>\n",
       "      <td>0.0</td>\n",
       "      <td>10000.0</td>\n",
       "      <td>PD</td>\n",
       "      <td>GOOD</td>\n",
       "      <td>0.276686</td>\n",
       "      <td>1</td>\n",
       "      <td>18517.00</td>\n",
       "      <td>19562.91032</td>\n",
       "      <td>-1045.910319</td>\n",
       "      <td>NORTHEAST</td>\n",
       "    </tr>\n",
       "    <tr>\n",
       "      <th>2205</th>\n",
       "      <td>Old</td>\n",
       "      <td>3.0</td>\n",
       "      <td>12000.0</td>\n",
       "      <td>PD</td>\n",
       "      <td>GOOD</td>\n",
       "      <td>0.272512</td>\n",
       "      <td>0</td>\n",
       "      <td>33102.61</td>\n",
       "      <td>23474.57012</td>\n",
       "      <td>9628.039879</td>\n",
       "      <td>SOUTHEAST</td>\n",
       "    </tr>\n",
       "    <tr>\n",
       "      <th>2356</th>\n",
       "      <td>Old</td>\n",
       "      <td>1.0</td>\n",
       "      <td>15360.0</td>\n",
       "      <td>Base</td>\n",
       "      <td>GOOD</td>\n",
       "      <td>0.270656</td>\n",
       "      <td>0</td>\n",
       "      <td>24325.51</td>\n",
       "      <td>21542.37043</td>\n",
       "      <td>2783.139570</td>\n",
       "      <td>NORTHEAST</td>\n",
       "    </tr>\n",
       "    <tr>\n",
       "      <th>172</th>\n",
       "      <td>Very_Old</td>\n",
       "      <td>2.0</td>\n",
       "      <td>11981.0</td>\n",
       "      <td>PD</td>\n",
       "      <td>NaN</td>\n",
       "      <td>0.311051</td>\n",
       "      <td>1</td>\n",
       "      <td>30391.70</td>\n",
       "      <td>32291.25839</td>\n",
       "      <td>-1899.558393</td>\n",
       "      <td>CENTRAL</td>\n",
       "    </tr>\n",
       "    <tr>\n",
       "      <th>521</th>\n",
       "      <td>Very_Old</td>\n",
       "      <td>2.0</td>\n",
       "      <td>12004.0</td>\n",
       "      <td>PD</td>\n",
       "      <td>GOOD</td>\n",
       "      <td>0.300957</td>\n",
       "      <td>1</td>\n",
       "      <td>26009.94</td>\n",
       "      <td>24311.00633</td>\n",
       "      <td>1698.933667</td>\n",
       "      <td>SOUTH CENTRAL</td>\n",
       "    </tr>\n",
       "  </tbody>\n",
       "</table>\n",
       "</div>"
      ],
      "text/plain": [
       "         Tenure  Competitor_Intensity     Area PD_Base Weather  Stockout_Perc  \\\n",
       "Store                                                                           \n",
       "701    Very_Old                   0.0  10000.0      PD    GOOD       0.276686   \n",
       "2205        Old                   3.0  12000.0      PD    GOOD       0.272512   \n",
       "2356        Old                   1.0  15360.0    Base    GOOD       0.270656   \n",
       "172    Very_Old                   2.0  11981.0      PD     NaN       0.311051   \n",
       "521    Very_Old                   2.0  12004.0      PD    GOOD       0.300957   \n",
       "\n",
       "       Cluster  Gross_Sales  Planned_Sales_Dollar  Deviation_In_Sales  \\\n",
       "Store                                                                   \n",
       "701          1     18517.00           19562.91032        -1045.910319   \n",
       "2205         0     33102.61           23474.57012         9628.039879   \n",
       "2356         0     24325.51           21542.37043         2783.139570   \n",
       "172          1     30391.70           32291.25839        -1899.558393   \n",
       "521          1     26009.94           24311.00633         1698.933667   \n",
       "\n",
       "          RegionName  \n",
       "Store                 \n",
       "701        NORTHEAST  \n",
       "2205       SOUTHEAST  \n",
       "2356       NORTHEAST  \n",
       "172          CENTRAL  \n",
       "521    SOUTH CENTRAL  "
      ]
     },
     "execution_count": 138,
     "metadata": {},
     "output_type": "execute_result"
    }
   ],
   "source": [
    "df=pd.read_csv(\"C:/Users/anurag.anand/Downloads/store_cluster_xgboost_32_full_data.csv\")\n",
    "df=df.set_index(['Store'])\n",
    "df.head()"
   ]
  },
  {
   "cell_type": "code",
   "execution_count": 139,
   "metadata": {},
   "outputs": [],
   "source": [
    "## Preprocessing the data. Filling NAs\n",
    "cleanup_nums = {\"Tenure\":     {\"Very_Old\": 1, \"Old\": 2, \"New\": 3},\n",
    "                \"Weather\": {\"GOOD\": 1, \"BAD\": 0},\n",
    "                   \"PD_Base\"   : { \"PD\": 1, \"Base\": 0 }}\n",
    "\n",
    "df.replace(cleanup_nums, inplace=True)\n",
    "df[\"Weather\"] = df.groupby(\"RegionName\")['Weather'].transform(lambda x: x.fillna(x.mean()))"
   ]
  },
  {
   "cell_type": "code",
   "execution_count": 140,
   "metadata": {
    "scrolled": true
   },
   "outputs": [],
   "source": [
    "# l = []\n",
    "# # for i in list(df['RegionName'].unique()):\n",
    "# temp = df[df['RegionName'] == 'CENTRAL']\n",
    "# temp\n",
    "# # mean = np.mean(temp['Weather'])\n",
    "# temp['Weather'] = temp['Weather'].fillna(mean)\n",
    "# # l.append(temp)\n",
    "# # test = pd.concat(l)\n",
    "# # test[test['RegionName']=='CENTRAL']\n",
    "# temp\n",
    "# temp.to_csv(\"C:/Users/anurag.anand/Downloads/hhsgshhs.csv\")"
   ]
  },
  {
   "cell_type": "markdown",
   "metadata": {},
   "source": [
    "### Splitting the dataset into test and train and running the model"
   ]
  },
  {
   "cell_type": "code",
   "execution_count": 141,
   "metadata": {},
   "outputs": [
    {
     "data": {
      "text/plain": [
       "XGBClassifier(base_score=0.5, booster='gbtree', colsample_bylevel=1,\n",
       "              colsample_bynode=1, colsample_bytree=1, gamma=0,\n",
       "              learning_rate=0.1, max_delta_step=0, max_depth=3,\n",
       "              min_child_weight=1, missing=None, n_estimators=100, n_jobs=1,\n",
       "              nthread=None, objective='multi:softprob', random_state=0,\n",
       "              reg_alpha=0.5, reg_lambda=1, scale_pos_weight=1, seed=None,\n",
       "              silent=None, subsample=1, verbosity=1)"
      ]
     },
     "execution_count": 141,
     "metadata": {},
     "output_type": "execute_result"
    }
   ],
   "source": [
    "#df.loc[df.Cluster == 2, 'Cluster'] = 1\n",
    "Y = df['Cluster']\n",
    "# y = pd.get_dummies(Y)\n",
    "\n",
    "X =  df[['Tenure','Competitor_Intensity','Area','PD_Base','Weather','Stockout_Perc']]\n",
    "# data_new = pd.get_dummies(X[['Tenure','PD_Base', 'Weather']])\n",
    "# X = X.join(data_new)\n",
    "# X.drop(columns=['PD_Base', 'Weather','PD_Base_Base','Weather_BAD','Tenure'], inplace=True)\n",
    "X.head()\n",
    "# Split the data into train and test data:\n",
    "X_train, X_test, Y_train, Y_test = train_test_split(X, Y, test_size = 0.22,random_state=1)\n",
    "# # # Build the model with the decision tree  algorithm:\n",
    "dt =  xgb.XGBClassifier(reg_alpha=0.5)\n",
    "dt.fit(X_train, Y_train)"
   ]
  },
  {
   "cell_type": "markdown",
   "metadata": {},
   "source": [
    "### Predicting the target variable"
   ]
  },
  {
   "cell_type": "code",
   "execution_count": 142,
   "metadata": {},
   "outputs": [],
   "source": [
    "y_pred = dt.predict(X_test)"
   ]
  },
  {
   "cell_type": "markdown",
   "metadata": {},
   "source": [
    "### Obtaining Accuracy"
   ]
  },
  {
   "cell_type": "code",
   "execution_count": 143,
   "metadata": {},
   "outputs": [
    {
     "name": "stdout",
     "output_type": "stream",
     "text": [
      "Accuracy: 69.31 %\n"
     ]
    }
   ],
   "source": [
    "print(\"Accuracy: %.2f %%\"%(metrics.accuracy_score(Y_test, y_pred)*100))"
   ]
  },
  {
   "cell_type": "markdown",
   "metadata": {},
   "source": [
    "### Plotting the shap values and Interpretation"
   ]
  },
  {
   "cell_type": "code",
   "execution_count": 144,
   "metadata": {},
   "outputs": [
    {
     "data": {
      "image/png": "[encoded data removed]",
      "text/plain": [
       "<Figure size 576x280.8 with 1 Axes>"
      ]
     },
     "metadata": {
      "needs_background": "light"
     },
     "output_type": "display_data"
    }
   ],
   "source": [
    "import shap\n",
    "shap_values = shap.TreeExplainer(dt).shap_values(X_train)\n",
    "shap.summary_plot(shap_values, X_train, plot_type=\"bar\")"
   ]
  },
  {
   "cell_type": "markdown",
   "metadata": {},
   "source": [
    "### Creating Score table for the Over performing, Closed to plan and Under performing stores\n"
   ]
  },
  {
   "cell_type": "code",
   "execution_count": 145,
   "metadata": {
    "scrolled": true
   },
   "outputs": [],
   "source": [
    "#Create dataframe for Over Performing Stores\n",
    "\n",
    "a = pd.DataFrame(shap_values[0], columns = [ 'Tenure','Competitor_Intensity','Area','PD_Base','Weather','Stockout_Perc'])\n",
    "\n",
    "# #Create dataframe for Other Performing Stores\n",
    "\n",
    "b = pd.DataFrame(shap_values[1], columns = [ 'Tenure','Competitor_Intensity','Area','PD_Base','Weather','Stockout_Perc'])\n",
    "\n",
    "# #Create dataframe for Under Performing Stores\n",
    "\n",
    "c = pd.DataFrame(shap_values[2], columns = [ 'Tenure','Competitor_Intensity','Area','PD_Base','Weather','Stockout_Perc'])\n"
   ]
  },
  {
   "cell_type": "code",
   "execution_count": 146,
   "metadata": {},
   "outputs": [],
   "source": [
    "#Over Performing Stores\n",
    "a_shap=a.abs().mean()\n",
    "a2 = pd.DataFrame(a_shap,columns=['Score'])\n",
    "a2['Features'] = a2.index\n",
    "a2['Score'] = a2['Score']/a2['Score'].sum()\n",
    "#Closed to plan Performing Stores\n",
    "b_shap=b.abs().mean()\n",
    "b2 = pd.DataFrame(b_shap,columns=['Score'])\n",
    "b2['Features'] = b2.index\n",
    "b2['Score'] = b2['Score']/b2['Score'].sum()\n",
    "#Under Performing Stores\n",
    "c_shap=c.abs().mean()\n",
    "c2 = pd.DataFrame(c_shap,columns=['Score'])\n",
    "c2['Features'] = c2.index\n",
    "c2['Score'] = c2['Score']/c2['Score'].sum()"
   ]
  },
  {
   "cell_type": "code",
   "execution_count": 147,
   "metadata": {},
   "outputs": [],
   "source": [
    "# Converting the dataframes to CSV \n",
    "\n",
    "a2.to_csv(\"C:/Users/anurag.anand/Downloads/final_Score_over_performing.csv\")  ## for over performing stores\n",
    "b2.to_csv(\"C:/Users/anurag.anand/Downloads/final_Score_closed_to_plan_performing.csv\")  ## for closed to plan performing stores\n",
    "c2.to_csv(\"C:/Users/anurag.anand/Downloads/final_Score_under_performing.csv\")  ## for under performing stores"
   ]
  },
  {
   "cell_type": "markdown",
   "metadata": {},
   "source": [
    "### END\n"
   ]
  },
  {
   "cell_type": "markdown",
   "metadata": {},
   "source": [
    "### --------------------------------------------------------------------------------------------------------------------------"
   ]
  },
  {
   "cell_type": "code",
   "execution_count": null,
   "metadata": {},
   "outputs": [],
   "source": []
  }
 ],
 "metadata": {
  "kernelspec": {
   "display_name": "Python 3",
   "language": "python",
   "name": "python3"
  },
  "language_info": {
   "codemirror_mode": {
    "name": "ipython",
    "version": 3
   },
   "file_extension": ".py",
   "mimetype": "text/x-python",
   "name": "python",
   "nbconvert_exporter": "python",
   "pygments_lexer": "ipython3",
   "version": "3.7.3"
  }
 },
 "nbformat": 4,
 "nbformat_minor": 2
}
